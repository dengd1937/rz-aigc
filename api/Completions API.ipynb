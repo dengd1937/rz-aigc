{
 "cells": [
  {
   "cell_type": "code",
   "id": "initial_id",
   "metadata": {
    "collapsed": true,
    "ExecuteTime": {
     "end_time": "2025-10-11T09:10:46.887274Z",
     "start_time": "2025-10-11T09:10:46.685895Z"
    }
   },
   "source": [
    "from dotenv import load_dotenv\n",
    "from openai import OpenAI\n",
    "\n",
    "load_dotenv()\n",
    "client = OpenAI()"
   ],
   "outputs": [],
   "execution_count": 4
  },
  {
   "metadata": {
    "ExecuteTime": {
     "end_time": "2025-10-11T09:23:32.607033Z",
     "start_time": "2025-10-11T09:23:31.389292Z"
    }
   },
   "cell_type": "code",
   "source": [
    "completion = client.completions.create(\n",
    "  model=\"gpt-3.5-turbo-instruct\",\n",
    "  prompt=\"我很不高兴\",\n",
    "  max_tokens=20,\n",
    "  top_p=0.1\n",
    ")\n",
    "completion"
   ],
   "id": "e2e5cfa6e9696f26",
   "outputs": [
    {
     "data": {
      "text/plain": [
       "Completion(id='cmpl-CPQ72RalZYH9yNB8u7SggvzED01Yt', choices=[CompletionChoice(finish_reason='length', index=0, logprobs=None, text='，因为我觉得自己的能力不够，无法达')], created=1760174612, model='gpt-3.5-turbo-instruct:20230824-v2', object='text_completion', system_fingerprint=None, usage=CompletionUsage(completion_tokens=20, prompt_tokens=7, total_tokens=27, completion_tokens_details=None, prompt_tokens_details=None))"
      ]
     },
     "execution_count": 21,
     "metadata": {},
     "output_type": "execute_result"
    }
   ],
   "execution_count": 21
  },
  {
   "metadata": {
    "ExecuteTime": {
     "end_time": "2025-10-11T09:14:54.419826Z",
     "start_time": "2025-10-11T09:14:54.417034Z"
    }
   },
   "cell_type": "code",
   "source": "completion.choices[0].text",
   "id": "b46595b13ce2410f",
   "outputs": [
    {
     "data": {
      "text/plain": [
       "'，于是一开始我很喜'"
      ]
     },
     "execution_count": 7,
     "metadata": {},
     "output_type": "execute_result"
    }
   ],
   "execution_count": 7
  },
  {
   "metadata": {
    "ExecuteTime": {
     "end_time": "2025-10-11T09:15:18.876831Z",
     "start_time": "2025-10-11T09:15:18.873732Z"
    }
   },
   "cell_type": "code",
   "source": "completion.usage.total_tokens",
   "id": "fb004bd9270c6ea7",
   "outputs": [
    {
     "data": {
      "text/plain": [
       "17"
      ]
     },
     "execution_count": 8,
     "metadata": {},
     "output_type": "execute_result"
    }
   ],
   "execution_count": 8
  }
 ],
 "metadata": {
  "kernelspec": {
   "display_name": "Python 3",
   "language": "python",
   "name": "python3"
  },
  "language_info": {
   "codemirror_mode": {
    "name": "ipython",
    "version": 2
   },
   "file_extension": ".py",
   "mimetype": "text/x-python",
   "name": "python",
   "nbconvert_exporter": "python",
   "pygments_lexer": "ipython2",
   "version": "2.7.6"
  }
 },
 "nbformat": 4,
 "nbformat_minor": 5
}
